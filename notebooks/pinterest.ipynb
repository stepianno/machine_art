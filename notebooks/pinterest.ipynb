{
 "cells": [
  {
   "cell_type": "markdown",
   "metadata": {},
   "source": [
    "*This notebook is dedicated to scraping all images from a Pinterest board and saving them locally. One board typically contains between 700-800 images. For this project, I scraped over 10,000 images in order to train my autoencoder. I reused this code for several different boards. Just place a different link for the url variable and change the name of the files being saved.*"
   ]
  },
  {
   "cell_type": "code",
   "execution_count": null,
   "metadata": {},
   "outputs": [],
   "source": [
    "from bs4 import BeautifulSoup\n",
    "import requests\n",
    "from fake_useragent import UserAgent\n",
    "import time, os\n",
    "from selenium import webdriver\n",
    "from selenium.webdriver.common.keys import Keys\n",
    "import re\n",
    "import pandas as pd\n",
    "\n",
    "chromedriver = \"/Applications/chromedriver\" # path to the chromedriver executable\n",
    "os.environ[\"webdriver.chrome.driver\"] = chromedriver"
   ]
  },
  {
   "cell_type": "code",
   "execution_count": null,
   "metadata": {},
   "outputs": [],
   "source": [
    "url = 'https://www.pinterest.com/{your search query here}'\n",
    "driver = webdriver.Chrome(chromedriver)\n",
    "driver.get(url)"
   ]
  },
  {
   "cell_type": "markdown",
   "metadata": {},
   "source": [
    "*In order to use the Chromedriver successfully, you must have a Pinterest account and log in after launching the driver*"
   ]
  },
  {
   "cell_type": "markdown",
   "metadata": {},
   "source": [
    "*Because Pinterest uses Javascript to load images as you scroll, for this to work, the code scrolls down the page a bit, takes all the image hyperlink references available, and appends them into a list. Naturally, this method produces a lot of duplicates hrefs. This is dealt with at the end by converting the list into a set.*"
   ]
  },
  {
   "cell_type": "code",
   "execution_count": null,
   "metadata": {},
   "outputs": [],
   "source": [
    "srcs = []\n",
    "for i in range(0,300):\n",
    "    driver.execute_script(f'window.scrollTo({i*400},{i*400+400})')\n",
    "    soup = BeautifulSoup(driver.page_source, 'html.parser')\n",
    "    imgs = soup.find(class_='gridCentered').find_all('img')\n",
    "    for img in imgs:\n",
    "        srcs.append(img['src'])\n",
    "urls = set(srcs)"
   ]
  },
  {
   "cell_type": "code",
   "execution_count": null,
   "metadata": {},
   "outputs": [],
   "source": [
    "driver.quit()"
   ]
  },
  {
   "cell_type": "markdown",
   "metadata": {},
   "source": [
    "*With all the hrefs, its time to save all the images. Most are saved as low quality, small images in order to load quicker during user experience. Fortunately, Pinterest has a uniform format for all its images, and the quality can be easily improved by substituting the 236x (236 pixels) or 564x with 1200x to get the full volume image for your files.*"
   ]
  },
  {
   "cell_type": "code",
   "execution_count": null,
   "metadata": {},
   "outputs": [],
   "source": [
    "for i, url in enumerate(list(urls)[528:], 528):\n",
    "    url = re.sub('\\d+x', '1200x', url)\n",
    "    response = requests.get(url)\n",
    "    file = open(f\"more_pinterest/pinterest_your_name_here_{i}.jpeg\", \"wb\")\n",
    "    file.write(response.content)\n",
    "    file.close()"
   ]
  }
 ],
 "metadata": {
  "kernelspec": {
   "display_name": "Python 3",
   "language": "python",
   "name": "python3"
  },
  "language_info": {
   "codemirror_mode": {
    "name": "ipython",
    "version": 3
   },
   "file_extension": ".py",
   "mimetype": "text/x-python",
   "name": "python",
   "nbconvert_exporter": "python",
   "pygments_lexer": "ipython3",
   "version": "3.7.6"
  }
 },
 "nbformat": 4,
 "nbformat_minor": 4
}
